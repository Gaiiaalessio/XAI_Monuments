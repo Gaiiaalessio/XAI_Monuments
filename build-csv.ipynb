{
 "cells": [
  {
   "cell_type": "code",
   "execution_count": 4,
   "id": "2ac15926-ed3f-4201-b091-c05187f384cf",
   "metadata": {},
   "outputs": [
    {
     "name": "stdout",
     "output_type": "stream",
     "text": [
      "Requirement already satisfied: opencv-python in /orfeo/cephfs/home/dssc/adellasiega/jupyter/lib64/python3.9/site-packages (4.10.0.84)\n",
      "Requirement already satisfied: numpy>=1.17.0 in /orfeo/cephfs/home/dssc/adellasiega/jupyter/lib64/python3.9/site-packages (from opencv-python) (2.0.2)\n"
     ]
    }
   ],
   "source": [
    "!pip install opencv-python"
   ]
  },
  {
   "cell_type": "code",
   "execution_count": 2,
   "id": "f815750f-e14b-4230-8496-190a46838aad",
   "metadata": {},
   "outputs": [
    {
     "name": "stdout",
     "output_type": "stream",
     "text": [
      "Requirement already satisfied: albumentations in /orfeo/cephfs/home/dssc/adellasiega/jupyter/lib/python3.9/site-packages (1.4.18)\n",
      "Requirement already satisfied: numpy>=1.24.4 in /orfeo/cephfs/home/dssc/adellasiega/jupyter/lib64/python3.9/site-packages (from albumentations) (2.0.2)\n",
      "Requirement already satisfied: scipy>=1.10.0 in /orfeo/cephfs/home/dssc/adellasiega/jupyter/lib64/python3.9/site-packages (from albumentations) (1.13.1)\n",
      "Requirement already satisfied: scikit-image>=0.21.0 in /orfeo/cephfs/home/dssc/adellasiega/jupyter/lib64/python3.9/site-packages (from albumentations) (0.24.0)\n",
      "Requirement already satisfied: PyYAML in /orfeo/cephfs/home/dssc/adellasiega/jupyter/lib64/python3.9/site-packages (from albumentations) (6.0.1)\n",
      "Requirement already satisfied: pydantic>=2.7.0 in /orfeo/cephfs/home/dssc/adellasiega/jupyter/lib/python3.9/site-packages (from albumentations) (2.9.2)\n",
      "Requirement already satisfied: albucore==0.0.17 in /orfeo/cephfs/home/dssc/adellasiega/jupyter/lib/python3.9/site-packages (from albumentations) (0.0.17)\n",
      "Requirement already satisfied: eval-type-backport in /orfeo/cephfs/home/dssc/adellasiega/jupyter/lib/python3.9/site-packages (from albumentations) (0.2.0)\n",
      "Requirement already satisfied: opencv-python-headless>=4.9.0.80 in /orfeo/cephfs/home/dssc/adellasiega/jupyter/lib64/python3.9/site-packages (from albumentations) (4.10.0.84)\n",
      "Requirement already satisfied: typing-extensions>=4.9.0 in /orfeo/cephfs/home/dssc/adellasiega/jupyter/lib/python3.9/site-packages (from albumentations) (4.12.2)\n",
      "Requirement already satisfied: annotated-types>=0.6.0 in /orfeo/cephfs/home/dssc/adellasiega/jupyter/lib/python3.9/site-packages (from pydantic>=2.7.0->albumentations) (0.7.0)\n",
      "Requirement already satisfied: pydantic-core==2.23.4 in /orfeo/cephfs/home/dssc/adellasiega/jupyter/lib64/python3.9/site-packages (from pydantic>=2.7.0->albumentations) (2.23.4)\n",
      "Requirement already satisfied: networkx>=2.8 in /orfeo/cephfs/home/dssc/adellasiega/jupyter/lib/python3.9/site-packages (from scikit-image>=0.21.0->albumentations) (3.2.1)\n",
      "Requirement already satisfied: pillow>=9.1 in /orfeo/cephfs/home/dssc/adellasiega/jupyter/lib64/python3.9/site-packages (from scikit-image>=0.21.0->albumentations) (10.4.0)\n",
      "Requirement already satisfied: imageio>=2.33 in /orfeo/cephfs/home/dssc/adellasiega/jupyter/lib/python3.9/site-packages (from scikit-image>=0.21.0->albumentations) (2.34.2)\n",
      "Requirement already satisfied: tifffile>=2022.8.12 in /orfeo/cephfs/home/dssc/adellasiega/jupyter/lib/python3.9/site-packages (from scikit-image>=0.21.0->albumentations) (2024.8.30)\n",
      "Requirement already satisfied: packaging>=21 in /orfeo/cephfs/home/dssc/adellasiega/jupyter/lib/python3.9/site-packages (from scikit-image>=0.21.0->albumentations) (24.1)\n",
      "Requirement already satisfied: lazy-loader>=0.4 in /orfeo/cephfs/home/dssc/adellasiega/jupyter/lib/python3.9/site-packages (from scikit-image>=0.21.0->albumentations) (0.4)\n",
      "Note: you may need to restart the kernel to use updated packages.\n"
     ]
    }
   ],
   "source": [
    "pip install albumentations"
   ]
  },
  {
   "cell_type": "code",
   "execution_count": 1,
   "id": "7d0435b1-c313-43e8-bb76-32671a1c1aa5",
   "metadata": {},
   "outputs": [
    {
     "name": "stderr",
     "output_type": "stream",
     "text": [
      "/orfeo/cephfs/home/dssc/adellasiega/jupyter/lib/python3.9/site-packages/albumentations/__init__.py:13: UserWarning: A new version of Albumentations is available: 1.4.20 (you have 1.4.18). Upgrade using: pip install -U albumentations. To disable automatic update checks, set the environment variable NO_ALBUMENTATIONS_UPDATE to 1.\n",
      "  check_for_updates()\n"
     ]
    }
   ],
   "source": [
    "import os, torch\n",
    "import pandas as pd\n",
    "import torchvision.models as models\n",
    "import torch.nn as nn\n",
    "from sklearn.model_selection import train_test_split\n",
    "from utils.config import *\n",
    "from utils.dataloader import ArchitectureClassificationDataset, train_transform, val_transform, PascalClassificationDataset, transform_detection_pascal\n",
    "from utils.train import train, validate\n",
    "\n",
    "def build_csv():\n",
    "    row_list_xml = []\n",
    "    row_list_img = []\n",
    "    label = 0\n",
    "    for fold in FOLDERS_DATA:\n",
    "        local_path = os.path.join(os.path.join(PATH_DATA, fold), 'xml')\n",
    "        for el in os.listdir(local_path):\n",
    "            row_list_xml.append({'path': os.path.join(local_path,el), 'class' : fold})\n",
    "            row_list_img.append({'path': os.path.join(local_path[:-4],el[:-4] +'.jpg'), 'class' : label})\n",
    "        label += 1\n",
    "    df_xml = pd.DataFrame(row_list_xml)               \n",
    "    df_img = pd.DataFrame(row_list_img)               \n",
    "    df_xml.to_csv(os.path.join(PATH_DATA,CSV_XML), index = False, header=True)\n",
    "    df_img.to_csv(os.path.join(PATH_DATA,CSV_IMG), index = False, header=True)\n",
    "\n",
    "def split_train_val_csv(split=0.6):\n",
    "    df_img = pd.read_csv(os.path.join(PATH_DATA,CSV_IMG))\n",
    "    df_train, df_val = train_test_split(df_img, train_size=split, stratify=df_img['class'])\n",
    "    df_val, df_test = train_test_split(df_val, train_size=0.5, stratify=df_val['class'])\n",
    "    df_train.to_csv(os.path.join(PATH_DATA, 'train.csv'), index = False, header=True)\n",
    "    df_val.to_csv(os.path.join(PATH_DATA, 'val.csv'), index = False, header=True)\n",
    "    df_test.to_csv(os.path.join(PATH_DATA, 'test.csv'), index = False, header=True)\n",
    "\n",
    "\n",
    "if not os.path.exists(os.path.join(PATH_DATA,CSV_IMG)):\n",
    "    build_csv()\n",
    "\n",
    "if not os.path.exists(os.path.join(PATH_DATA, 'test.csv')):\n",
    "    split_train_val_csv()"
   ]
  },
  {
   "cell_type": "code",
   "execution_count": null,
   "id": "e24809b6-8989-482d-b174-0579440284e0",
   "metadata": {},
   "outputs": [],
   "source": []
  }
 ],
 "metadata": {
  "kernelspec": {
   "display_name": "Python 3 (ipykernel)",
   "language": "python",
   "name": "python3"
  },
  "language_info": {
   "codemirror_mode": {
    "name": "ipython",
    "version": 3
   },
   "file_extension": ".py",
   "mimetype": "text/x-python",
   "name": "python",
   "nbconvert_exporter": "python",
   "pygments_lexer": "ipython3",
   "version": "3.9.18"
  }
 },
 "nbformat": 4,
 "nbformat_minor": 5
}
