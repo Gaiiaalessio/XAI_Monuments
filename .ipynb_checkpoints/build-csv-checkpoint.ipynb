{
 "cells": [
  {
   "cell_type": "code",
   "execution_count": 1,
   "id": "2ac15926-ed3f-4201-b091-c05187f384cf",
   "metadata": {},
   "outputs": [
    {
     "name": "stdout",
     "output_type": "stream",
     "text": [
      "Collecting opencv-python\n",
      "  Using cached opencv_python-4.10.0.84-cp37-abi3-manylinux_2_17_x86_64.manylinux2014_x86_64.whl.metadata (20 kB)\n",
      "Requirement already satisfied: numpy>=1.17.0 in /orfeo/cephfs/home/dssc/galessio/jupyter/lib64/python3.9/site-packages (from opencv-python) (2.0.2)\n",
      "Using cached opencv_python-4.10.0.84-cp37-abi3-manylinux_2_17_x86_64.manylinux2014_x86_64.whl (62.5 MB)\n",
      "Installing collected packages: opencv-python\n",
      "Successfully installed opencv-python-4.10.0.84\n"
     ]
    }
   ],
   "source": [
    "!pip install opencv-python"
   ]
  },
  {
   "cell_type": "code",
   "execution_count": 3,
   "id": "f815750f-e14b-4230-8496-190a46838aad",
   "metadata": {},
   "outputs": [
    {
     "name": "stdout",
     "output_type": "stream",
     "text": [
      "Collecting albumentations\n",
      "  Downloading albumentations-1.4.18-py3-none-any.whl.metadata (32 kB)\n",
      "Requirement already satisfied: numpy>=1.24.4 in /orfeo/cephfs/home/dssc/galessio/jupyter/lib64/python3.9/site-packages (from albumentations) (2.0.2)\n",
      "Requirement already satisfied: scipy>=1.10.0 in /orfeo/cephfs/home/dssc/galessio/jupyter/lib64/python3.9/site-packages (from albumentations) (1.13.1)\n",
      "Collecting scikit-image>=0.21.0 (from albumentations)\n",
      "  Downloading scikit_image-0.24.0-cp39-cp39-manylinux_2_17_x86_64.manylinux2014_x86_64.whl.metadata (14 kB)\n",
      "Requirement already satisfied: PyYAML in /orfeo/cephfs/home/dssc/galessio/jupyter/lib64/python3.9/site-packages (from albumentations) (6.0.1)\n",
      "Collecting pydantic>=2.7.0 (from albumentations)\n",
      "  Downloading pydantic-2.9.2-py3-none-any.whl.metadata (149 kB)\n",
      "Collecting albucore==0.0.17 (from albumentations)\n",
      "  Downloading albucore-0.0.17-py3-none-any.whl.metadata (3.1 kB)\n",
      "Collecting eval-type-backport (from albumentations)\n",
      "  Downloading eval_type_backport-0.2.0-py3-none-any.whl.metadata (2.2 kB)\n",
      "Collecting opencv-python-headless>=4.9.0.80 (from albumentations)\n",
      "  Downloading opencv_python_headless-4.10.0.84-cp37-abi3-manylinux_2_17_x86_64.manylinux2014_x86_64.whl.metadata (20 kB)\n",
      "Requirement already satisfied: typing-extensions>=4.9.0 in /orfeo/cephfs/home/dssc/galessio/jupyter/lib/python3.9/site-packages (from albumentations) (4.12.2)\n",
      "Collecting annotated-types>=0.6.0 (from pydantic>=2.7.0->albumentations)\n",
      "  Downloading annotated_types-0.7.0-py3-none-any.whl.metadata (15 kB)\n",
      "Collecting pydantic-core==2.23.4 (from pydantic>=2.7.0->albumentations)\n",
      "  Downloading pydantic_core-2.23.4-cp39-cp39-manylinux_2_17_x86_64.manylinux2014_x86_64.whl.metadata (6.6 kB)\n",
      "Requirement already satisfied: networkx>=2.8 in /orfeo/cephfs/home/dssc/galessio/jupyter/lib/python3.9/site-packages (from scikit-image>=0.21.0->albumentations) (3.2.1)\n",
      "Requirement already satisfied: pillow>=9.1 in /orfeo/cephfs/home/dssc/galessio/jupyter/lib64/python3.9/site-packages (from scikit-image>=0.21.0->albumentations) (10.4.0)\n",
      "Collecting imageio>=2.33 (from scikit-image>=0.21.0->albumentations)\n",
      "  Downloading imageio-2.36.0-py3-none-any.whl.metadata (5.2 kB)\n",
      "Collecting tifffile>=2022.8.12 (from scikit-image>=0.21.0->albumentations)\n",
      "  Downloading tifffile-2024.8.30-py3-none-any.whl.metadata (31 kB)\n",
      "Requirement already satisfied: packaging>=21 in /orfeo/cephfs/home/dssc/galessio/jupyter/lib/python3.9/site-packages (from scikit-image>=0.21.0->albumentations) (24.1)\n",
      "Collecting lazy-loader>=0.4 (from scikit-image>=0.21.0->albumentations)\n",
      "  Downloading lazy_loader-0.4-py3-none-any.whl.metadata (7.6 kB)\n",
      "Downloading albumentations-1.4.18-py3-none-any.whl (224 kB)\n",
      "Downloading albucore-0.0.17-py3-none-any.whl (10 kB)\n",
      "Downloading opencv_python_headless-4.10.0.84-cp37-abi3-manylinux_2_17_x86_64.manylinux2014_x86_64.whl (49.9 MB)\n",
      "\u001b[2K   \u001b[90m━━━━━━━━━━━━━━━━━━━━━━━━━━━━━━━━━━━━━━━━\u001b[0m \u001b[32m49.9/49.9 MB\u001b[0m \u001b[31m16.8 MB/s\u001b[0m eta \u001b[36m0:00:00\u001b[0m00:01\u001b[0m00:01\u001b[0m\n",
      "\u001b[?25hDownloading pydantic-2.9.2-py3-none-any.whl (434 kB)\n",
      "Downloading pydantic_core-2.23.4-cp39-cp39-manylinux_2_17_x86_64.manylinux2014_x86_64.whl (2.1 MB)\n",
      "\u001b[2K   \u001b[90m━━━━━━━━━━━━━━━━━━━━━━━━━━━━━━━━━━━━━━━━\u001b[0m \u001b[32m2.1/2.1 MB\u001b[0m \u001b[31m4.4 MB/s\u001b[0m eta \u001b[36m0:00:00\u001b[0mta \u001b[36m0:00:01\u001b[0m\n",
      "\u001b[?25hDownloading scikit_image-0.24.0-cp39-cp39-manylinux_2_17_x86_64.manylinux2014_x86_64.whl (14.9 MB)\n",
      "\u001b[2K   \u001b[90m━━━━━━━━━━━━━━━━━━━━━━━━━━━━━━━━━━━━━━━━\u001b[0m \u001b[32m14.9/14.9 MB\u001b[0m \u001b[31m29.4 MB/s\u001b[0m eta \u001b[36m0:00:00\u001b[0m00:01\u001b[0m00:01\u001b[0m\n",
      "\u001b[?25hDownloading eval_type_backport-0.2.0-py3-none-any.whl (5.9 kB)\n",
      "Downloading annotated_types-0.7.0-py3-none-any.whl (13 kB)\n",
      "Downloading imageio-2.36.0-py3-none-any.whl (315 kB)\n",
      "Downloading lazy_loader-0.4-py3-none-any.whl (12 kB)\n",
      "Downloading tifffile-2024.8.30-py3-none-any.whl (227 kB)\n",
      "Installing collected packages: tifffile, pydantic-core, opencv-python-headless, lazy-loader, imageio, eval-type-backport, annotated-types, scikit-image, pydantic, albucore, albumentations\n",
      "Successfully installed albucore-0.0.17 albumentations-1.4.18 annotated-types-0.7.0 eval-type-backport-0.2.0 imageio-2.36.0 lazy-loader-0.4 opencv-python-headless-4.10.0.84 pydantic-2.9.2 pydantic-core-2.23.4 scikit-image-0.24.0 tifffile-2024.8.30\n",
      "Note: you may need to restart the kernel to use updated packages.\n"
     ]
    }
   ],
   "source": [
    "pip install albumentations"
   ]
  },
  {
   "cell_type": "code",
   "execution_count": 1,
   "id": "7d0435b1-c313-43e8-bb76-32671a1c1aa5",
   "metadata": {},
   "outputs": [
    {
     "ename": "FileNotFoundError",
     "evalue": "[Errno 2] No such file or directory: '../Data/Dataset-IGRB1092_14cls/01.musulman/xml'",
     "output_type": "error",
     "traceback": [
      "\u001b[0;31m---------------------------------------------------------------------------\u001b[0m",
      "\u001b[0;31mFileNotFoundError\u001b[0m                         Traceback (most recent call last)",
      "Cell \u001b[0;32mIn[1], line 35\u001b[0m\n\u001b[1;32m     31\u001b[0m     df_test\u001b[38;5;241m.\u001b[39mto_csv(os\u001b[38;5;241m.\u001b[39mpath\u001b[38;5;241m.\u001b[39mjoin(PATH_DATA, \u001b[38;5;124m'\u001b[39m\u001b[38;5;124mtest.csv\u001b[39m\u001b[38;5;124m'\u001b[39m), index \u001b[38;5;241m=\u001b[39m \u001b[38;5;28;01mFalse\u001b[39;00m, header\u001b[38;5;241m=\u001b[39m\u001b[38;5;28;01mTrue\u001b[39;00m)\n\u001b[1;32m     34\u001b[0m \u001b[38;5;28;01mif\u001b[39;00m \u001b[38;5;129;01mnot\u001b[39;00m os\u001b[38;5;241m.\u001b[39mpath\u001b[38;5;241m.\u001b[39mexists(os\u001b[38;5;241m.\u001b[39mpath\u001b[38;5;241m.\u001b[39mjoin(PATH_DATA,CSV_IMG)):\n\u001b[0;32m---> 35\u001b[0m     \u001b[43mbuild_csv\u001b[49m\u001b[43m(\u001b[49m\u001b[43m)\u001b[49m\n\u001b[1;32m     37\u001b[0m \u001b[38;5;28;01mif\u001b[39;00m \u001b[38;5;129;01mnot\u001b[39;00m os\u001b[38;5;241m.\u001b[39mpath\u001b[38;5;241m.\u001b[39mexists(os\u001b[38;5;241m.\u001b[39mpath\u001b[38;5;241m.\u001b[39mjoin(PATH_DATA, \u001b[38;5;124m'\u001b[39m\u001b[38;5;124mtest.csv\u001b[39m\u001b[38;5;124m'\u001b[39m)):\n\u001b[1;32m     38\u001b[0m     split_train_val_csv()\n",
      "Cell \u001b[0;32mIn[1], line 16\u001b[0m, in \u001b[0;36mbuild_csv\u001b[0;34m()\u001b[0m\n\u001b[1;32m     14\u001b[0m \u001b[38;5;28;01mfor\u001b[39;00m fold \u001b[38;5;129;01min\u001b[39;00m FOLDERS_DATA:\n\u001b[1;32m     15\u001b[0m     local_path \u001b[38;5;241m=\u001b[39m os\u001b[38;5;241m.\u001b[39mpath\u001b[38;5;241m.\u001b[39mjoin(os\u001b[38;5;241m.\u001b[39mpath\u001b[38;5;241m.\u001b[39mjoin(PATH_DATA, fold), \u001b[38;5;124m'\u001b[39m\u001b[38;5;124mxml\u001b[39m\u001b[38;5;124m'\u001b[39m)\n\u001b[0;32m---> 16\u001b[0m     \u001b[38;5;28;01mfor\u001b[39;00m el \u001b[38;5;129;01min\u001b[39;00m \u001b[43mos\u001b[49m\u001b[38;5;241;43m.\u001b[39;49m\u001b[43mlistdir\u001b[49m\u001b[43m(\u001b[49m\u001b[43mlocal_path\u001b[49m\u001b[43m)\u001b[49m:\n\u001b[1;32m     17\u001b[0m         row_list_xml\u001b[38;5;241m.\u001b[39mappend({\u001b[38;5;124m'\u001b[39m\u001b[38;5;124mpath\u001b[39m\u001b[38;5;124m'\u001b[39m: os\u001b[38;5;241m.\u001b[39mpath\u001b[38;5;241m.\u001b[39mjoin(local_path,el), \u001b[38;5;124m'\u001b[39m\u001b[38;5;124mclass\u001b[39m\u001b[38;5;124m'\u001b[39m : fold})\n\u001b[1;32m     18\u001b[0m         row_list_img\u001b[38;5;241m.\u001b[39mappend({\u001b[38;5;124m'\u001b[39m\u001b[38;5;124mpath\u001b[39m\u001b[38;5;124m'\u001b[39m: os\u001b[38;5;241m.\u001b[39mpath\u001b[38;5;241m.\u001b[39mjoin(local_path[:\u001b[38;5;241m-\u001b[39m\u001b[38;5;241m4\u001b[39m],el[:\u001b[38;5;241m-\u001b[39m\u001b[38;5;241m4\u001b[39m] \u001b[38;5;241m+\u001b[39m\u001b[38;5;124m'\u001b[39m\u001b[38;5;124m.jpg\u001b[39m\u001b[38;5;124m'\u001b[39m), \u001b[38;5;124m'\u001b[39m\u001b[38;5;124mclass\u001b[39m\u001b[38;5;124m'\u001b[39m : label})\n",
      "\u001b[0;31mFileNotFoundError\u001b[0m: [Errno 2] No such file or directory: '../Data/Dataset-IGRB1092_14cls/01.musulman/xml'"
     ]
    }
   ],
   "source": [
    "import os, torch\n",
    "import pandas as pd\n",
    "import torchvision.models as models\n",
    "import torch.nn as nn\n",
    "from sklearn.model_selection import train_test_split\n",
    "from utils.config import *\n",
    "from utils.dataloader import ArchitectureClassificationDataset, train_transform, val_transform, PascalClassificationDataset, transform_detection_pascal\n",
    "from utils.train import train, validate\n",
    "\n",
    "def build_csv():\n",
    "    row_list_xml = []\n",
    "    row_list_img = []\n",
    "    label = 0\n",
    "    for fold in FOLDERS_DATA:\n",
    "        local_path = os.path.join(os.path.join(PATH_DATA, fold), 'xml')\n",
    "        for el in os.listdir(local_path):\n",
    "            row_list_xml.append({'path': os.path.join(local_path,el), 'class' : fold})\n",
    "            row_list_img.append({'path': os.path.join(local_path[:-4],el[:-4] +'.jpg'), 'class' : label})\n",
    "        label += 1\n",
    "    df_xml = pd.DataFrame(row_list_xml)               \n",
    "    df_img = pd.DataFrame(row_list_img)               \n",
    "    df_xml.to_csv(os.path.join(PATH_DATA,CSV_XML), index = False, header=True)\n",
    "    df_img.to_csv(os.path.join(PATH_DATA,CSV_IMG), index = False, header=True)\n",
    "\n",
    "def split_train_val_csv(split=0.6):\n",
    "    df_img = pd.read_csv(os.path.join(PATH_DATA,CSV_IMG))\n",
    "    df_train, df_val = train_test_split(df_img, train_size=split, stratify=df_img['class'])\n",
    "    df_val, df_test = train_test_split(df_val, train_size=0.5, stratify=df_val['class'])\n",
    "    df_train.to_csv(os.path.join(PATH_DATA, 'train.csv'), index = False, header=True)\n",
    "    df_val.to_csv(os.path.join(PATH_DATA, 'val.csv'), index = False, header=True)\n",
    "    df_test.to_csv(os.path.join(PATH_DATA, 'test.csv'), index = False, header=True)\n",
    "\n",
    "\n",
    "if not os.path.exists(os.path.join(PATH_DATA,CSV_IMG)):\n",
    "    build_csv()\n",
    "\n",
    "if not os.path.exists(os.path.join(PATH_DATA, 'test.csv')):\n",
    "    split_train_val_csv()"
   ]
  }
 ],
 "metadata": {
  "kernelspec": {
   "display_name": "Python 3 (ipykernel)",
   "language": "python",
   "name": "python3"
  },
  "language_info": {
   "codemirror_mode": {
    "name": "ipython",
    "version": 3
   },
   "file_extension": ".py",
   "mimetype": "text/x-python",
   "name": "python",
   "nbconvert_exporter": "python",
   "pygments_lexer": "ipython3",
   "version": "3.9.18"
  }
 },
 "nbformat": 4,
 "nbformat_minor": 5
}
